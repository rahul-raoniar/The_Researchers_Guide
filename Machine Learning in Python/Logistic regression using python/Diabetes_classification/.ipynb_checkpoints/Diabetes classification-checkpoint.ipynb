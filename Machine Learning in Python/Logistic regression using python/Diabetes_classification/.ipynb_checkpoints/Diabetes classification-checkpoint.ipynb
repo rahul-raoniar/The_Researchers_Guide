{
 "cells": [
  {
   "cell_type": "markdown",
   "metadata": {},
   "source": [
    "# Diabetes Classification using a Binary Logistic Regression Model "
   ]
  },
  {
   "cell_type": "markdown",
   "metadata": {},
   "source": [
    "## Data Preparation"
   ]
  },
  {
   "cell_type": "markdown",
   "metadata": {},
   "source": [
    "### Load libraries"
   ]
  },
  {
   "cell_type": "code",
   "execution_count": 1,
   "metadata": {
    "ExecuteTime": {
     "end_time": "2020-03-05T16:53:59.603437Z",
     "start_time": "2020-03-05T16:53:23.599255Z"
    }
   },
   "outputs": [],
   "source": [
    "import pandas as pd               #data loading and manipulation\n",
    "import matplotlib.pyplot as plt   #plotting\n",
    "import seaborn as sns             #statistical plotting"
   ]
  },
  {
   "cell_type": "markdown",
   "metadata": {},
   "source": [
    "### Read diabetes data"
   ]
  },
  {
   "cell_type": "code",
   "execution_count": 2,
   "metadata": {
    "ExecuteTime": {
     "end_time": "2020-03-05T16:55:47.070559Z",
     "start_time": "2020-03-05T16:55:47.049615Z"
    }
   },
   "outputs": [],
   "source": [
    "diabetes = pd.read_csv(\"diabetes.csv\")"
   ]
  },
  {
   "cell_type": "code",
   "execution_count": 3,
   "metadata": {
    "ExecuteTime": {
     "end_time": "2020-03-05T17:02:33.178543Z",
     "start_time": "2020-03-05T17:02:33.166575Z"
    },
    "hide_input": false,
    "scrolled": true
   },
   "outputs": [
    {
     "data": {
      "text/html": [
       "<div>\n",
       "<style scoped>\n",
       "    .dataframe tbody tr th:only-of-type {\n",
       "        vertical-align: middle;\n",
       "    }\n",
       "\n",
       "    .dataframe tbody tr th {\n",
       "        vertical-align: top;\n",
       "    }\n",
       "\n",
       "    .dataframe thead th {\n",
       "        text-align: right;\n",
       "    }\n",
       "</style>\n",
       "<table border=\"1\" class=\"dataframe\">\n",
       "  <thead>\n",
       "    <tr style=\"text-align: right;\">\n",
       "      <th></th>\n",
       "      <th>pregnant</th>\n",
       "      <th>glucose</th>\n",
       "      <th>pressure</th>\n",
       "      <th>triceps</th>\n",
       "      <th>insulin</th>\n",
       "      <th>mass</th>\n",
       "      <th>pedigree</th>\n",
       "      <th>age</th>\n",
       "      <th>diabetes</th>\n",
       "    </tr>\n",
       "  </thead>\n",
       "  <tbody>\n",
       "    <tr>\n",
       "      <th>0</th>\n",
       "      <td>1</td>\n",
       "      <td>89</td>\n",
       "      <td>66</td>\n",
       "      <td>23</td>\n",
       "      <td>94</td>\n",
       "      <td>28.1</td>\n",
       "      <td>0.167</td>\n",
       "      <td>21</td>\n",
       "      <td>neg</td>\n",
       "    </tr>\n",
       "    <tr>\n",
       "      <th>1</th>\n",
       "      <td>0</td>\n",
       "      <td>137</td>\n",
       "      <td>40</td>\n",
       "      <td>35</td>\n",
       "      <td>168</td>\n",
       "      <td>43.1</td>\n",
       "      <td>2.288</td>\n",
       "      <td>33</td>\n",
       "      <td>pos</td>\n",
       "    </tr>\n",
       "    <tr>\n",
       "      <th>2</th>\n",
       "      <td>3</td>\n",
       "      <td>78</td>\n",
       "      <td>50</td>\n",
       "      <td>32</td>\n",
       "      <td>88</td>\n",
       "      <td>31.0</td>\n",
       "      <td>0.248</td>\n",
       "      <td>26</td>\n",
       "      <td>pos</td>\n",
       "    </tr>\n",
       "    <tr>\n",
       "      <th>3</th>\n",
       "      <td>2</td>\n",
       "      <td>197</td>\n",
       "      <td>70</td>\n",
       "      <td>45</td>\n",
       "      <td>543</td>\n",
       "      <td>30.5</td>\n",
       "      <td>0.158</td>\n",
       "      <td>53</td>\n",
       "      <td>pos</td>\n",
       "    </tr>\n",
       "    <tr>\n",
       "      <th>4</th>\n",
       "      <td>1</td>\n",
       "      <td>189</td>\n",
       "      <td>60</td>\n",
       "      <td>23</td>\n",
       "      <td>846</td>\n",
       "      <td>30.1</td>\n",
       "      <td>0.398</td>\n",
       "      <td>59</td>\n",
       "      <td>pos</td>\n",
       "    </tr>\n",
       "  </tbody>\n",
       "</table>\n",
       "</div>"
      ],
      "text/plain": [
       "   pregnant  glucose  pressure  triceps  insulin  mass  pedigree  age diabetes\n",
       "0         1       89        66       23       94  28.1     0.167   21      neg\n",
       "1         0      137        40       35      168  43.1     2.288   33      pos\n",
       "2         3       78        50       32       88  31.0     0.248   26      pos\n",
       "3         2      197        70       45      543  30.5     0.158   53      pos\n",
       "4         1      189        60       23      846  30.1     0.398   59      pos"
      ]
     },
     "execution_count": 3,
     "metadata": {},
     "output_type": "execute_result"
    }
   ],
   "source": [
    "diabetes.head()"
   ]
  },
  {
   "cell_type": "code",
   "execution_count": 4,
   "metadata": {},
   "outputs": [
    {
     "name": "stdout",
     "output_type": "stream",
     "text": [
      "<class 'pandas.core.frame.DataFrame'>\n",
      "RangeIndex: 392 entries, 0 to 391\n",
      "Data columns (total 9 columns):\n",
      "pregnant    392 non-null int64\n",
      "glucose     392 non-null int64\n",
      "pressure    392 non-null int64\n",
      "triceps     392 non-null int64\n",
      "insulin     392 non-null int64\n",
      "mass        392 non-null float64\n",
      "pedigree    392 non-null float64\n",
      "age         392 non-null int64\n",
      "diabetes    392 non-null object\n",
      "dtypes: float64(2), int64(6), object(1)\n",
      "memory usage: 27.7+ KB\n"
     ]
    }
   ],
   "source": [
    "diabetes.info()"
   ]
  },
  {
   "cell_type": "markdown",
   "metadata": {},
   "source": [
    "### Mapping neg:0 and pos :1"
   ]
  },
  {
   "cell_type": "code",
   "execution_count": 5,
   "metadata": {
    "ExecuteTime": {
     "end_time": "2020-02-28T15:10:41.998942Z",
     "start_time": "2020-02-28T15:10:41.993954Z"
    }
   },
   "outputs": [],
   "source": [
    "diabetes[\"diabetes\"] = diabetes[\"diabetes\"].map({\"neg\":0, \"pos\":1})"
   ]
  },
  {
   "cell_type": "code",
   "execution_count": 6,
   "metadata": {
    "ExecuteTime": {
     "end_time": "2020-02-28T15:10:44.835220Z",
     "start_time": "2020-02-28T15:10:44.823741Z"
    }
   },
   "outputs": [
    {
     "data": {
      "text/html": [
       "<div>\n",
       "<style scoped>\n",
       "    .dataframe tbody tr th:only-of-type {\n",
       "        vertical-align: middle;\n",
       "    }\n",
       "\n",
       "    .dataframe tbody tr th {\n",
       "        vertical-align: top;\n",
       "    }\n",
       "\n",
       "    .dataframe thead th {\n",
       "        text-align: right;\n",
       "    }\n",
       "</style>\n",
       "<table border=\"1\" class=\"dataframe\">\n",
       "  <thead>\n",
       "    <tr style=\"text-align: right;\">\n",
       "      <th></th>\n",
       "      <th>pregnant</th>\n",
       "      <th>glucose</th>\n",
       "      <th>pressure</th>\n",
       "      <th>triceps</th>\n",
       "      <th>insulin</th>\n",
       "      <th>mass</th>\n",
       "      <th>pedigree</th>\n",
       "      <th>age</th>\n",
       "      <th>diabetes</th>\n",
       "    </tr>\n",
       "  </thead>\n",
       "  <tbody>\n",
       "    <tr>\n",
       "      <th>0</th>\n",
       "      <td>1</td>\n",
       "      <td>89</td>\n",
       "      <td>66</td>\n",
       "      <td>23</td>\n",
       "      <td>94</td>\n",
       "      <td>28.1</td>\n",
       "      <td>0.167</td>\n",
       "      <td>21</td>\n",
       "      <td>0</td>\n",
       "    </tr>\n",
       "    <tr>\n",
       "      <th>1</th>\n",
       "      <td>0</td>\n",
       "      <td>137</td>\n",
       "      <td>40</td>\n",
       "      <td>35</td>\n",
       "      <td>168</td>\n",
       "      <td>43.1</td>\n",
       "      <td>2.288</td>\n",
       "      <td>33</td>\n",
       "      <td>1</td>\n",
       "    </tr>\n",
       "    <tr>\n",
       "      <th>2</th>\n",
       "      <td>3</td>\n",
       "      <td>78</td>\n",
       "      <td>50</td>\n",
       "      <td>32</td>\n",
       "      <td>88</td>\n",
       "      <td>31.0</td>\n",
       "      <td>0.248</td>\n",
       "      <td>26</td>\n",
       "      <td>1</td>\n",
       "    </tr>\n",
       "    <tr>\n",
       "      <th>3</th>\n",
       "      <td>2</td>\n",
       "      <td>197</td>\n",
       "      <td>70</td>\n",
       "      <td>45</td>\n",
       "      <td>543</td>\n",
       "      <td>30.5</td>\n",
       "      <td>0.158</td>\n",
       "      <td>53</td>\n",
       "      <td>1</td>\n",
       "    </tr>\n",
       "    <tr>\n",
       "      <th>4</th>\n",
       "      <td>1</td>\n",
       "      <td>189</td>\n",
       "      <td>60</td>\n",
       "      <td>23</td>\n",
       "      <td>846</td>\n",
       "      <td>30.1</td>\n",
       "      <td>0.398</td>\n",
       "      <td>59</td>\n",
       "      <td>1</td>\n",
       "    </tr>\n",
       "  </tbody>\n",
       "</table>\n",
       "</div>"
      ],
      "text/plain": [
       "   pregnant  glucose  pressure  triceps  insulin  mass  pedigree  age  \\\n",
       "0         1       89        66       23       94  28.1     0.167   21   \n",
       "1         0      137        40       35      168  43.1     2.288   33   \n",
       "2         3       78        50       32       88  31.0     0.248   26   \n",
       "3         2      197        70       45      543  30.5     0.158   53   \n",
       "4         1      189        60       23      846  30.1     0.398   59   \n",
       "\n",
       "   diabetes  \n",
       "0         0  \n",
       "1         1  \n",
       "2         1  \n",
       "3         1  \n",
       "4         1  "
      ]
     },
     "execution_count": 6,
     "metadata": {},
     "output_type": "execute_result"
    }
   ],
   "source": [
    "diabetes.head()"
   ]
  },
  {
   "cell_type": "markdown",
   "metadata": {},
   "source": [
    "### Data info"
   ]
  },
  {
   "cell_type": "code",
   "execution_count": 7,
   "metadata": {
    "ExecuteTime": {
     "end_time": "2020-02-28T15:10:48.376722Z",
     "start_time": "2020-02-28T15:10:48.366749Z"
    },
    "scrolled": false
   },
   "outputs": [
    {
     "name": "stdout",
     "output_type": "stream",
     "text": [
      "<class 'pandas.core.frame.DataFrame'>\n",
      "RangeIndex: 392 entries, 0 to 391\n",
      "Data columns (total 9 columns):\n",
      "pregnant    392 non-null int64\n",
      "glucose     392 non-null int64\n",
      "pressure    392 non-null int64\n",
      "triceps     392 non-null int64\n",
      "insulin     392 non-null int64\n",
      "mass        392 non-null float64\n",
      "pedigree    392 non-null float64\n",
      "age         392 non-null int64\n",
      "diabetes    392 non-null int64\n",
      "dtypes: float64(2), int64(7)\n",
      "memory usage: 27.7 KB\n"
     ]
    }
   ],
   "source": [
    "diabetes.info()"
   ]
  },
  {
   "cell_type": "code",
   "execution_count": 8,
   "metadata": {},
   "outputs": [
    {
     "data": {
      "text/html": [
       "<div>\n",
       "<style scoped>\n",
       "    .dataframe tbody tr th:only-of-type {\n",
       "        vertical-align: middle;\n",
       "    }\n",
       "\n",
       "    .dataframe tbody tr th {\n",
       "        vertical-align: top;\n",
       "    }\n",
       "\n",
       "    .dataframe thead th {\n",
       "        text-align: right;\n",
       "    }\n",
       "</style>\n",
       "<table border=\"1\" class=\"dataframe\">\n",
       "  <thead>\n",
       "    <tr style=\"text-align: right;\">\n",
       "      <th></th>\n",
       "      <th>pregnant</th>\n",
       "      <th>glucose</th>\n",
       "      <th>pressure</th>\n",
       "      <th>triceps</th>\n",
       "      <th>insulin</th>\n",
       "      <th>mass</th>\n",
       "      <th>pedigree</th>\n",
       "      <th>age</th>\n",
       "      <th>diabetes</th>\n",
       "    </tr>\n",
       "  </thead>\n",
       "  <tbody>\n",
       "    <tr>\n",
       "      <th>count</th>\n",
       "      <td>392.000000</td>\n",
       "      <td>392.000000</td>\n",
       "      <td>392.000000</td>\n",
       "      <td>392.000000</td>\n",
       "      <td>392.000000</td>\n",
       "      <td>392.000000</td>\n",
       "      <td>392.000000</td>\n",
       "      <td>392.000000</td>\n",
       "      <td>392.000000</td>\n",
       "    </tr>\n",
       "    <tr>\n",
       "      <th>mean</th>\n",
       "      <td>3.301020</td>\n",
       "      <td>122.627551</td>\n",
       "      <td>70.663265</td>\n",
       "      <td>29.145408</td>\n",
       "      <td>156.056122</td>\n",
       "      <td>33.086224</td>\n",
       "      <td>0.523046</td>\n",
       "      <td>30.864796</td>\n",
       "      <td>0.331633</td>\n",
       "    </tr>\n",
       "    <tr>\n",
       "      <th>std</th>\n",
       "      <td>3.211424</td>\n",
       "      <td>30.860781</td>\n",
       "      <td>12.496092</td>\n",
       "      <td>10.516424</td>\n",
       "      <td>118.841690</td>\n",
       "      <td>7.027659</td>\n",
       "      <td>0.345488</td>\n",
       "      <td>10.200777</td>\n",
       "      <td>0.471401</td>\n",
       "    </tr>\n",
       "    <tr>\n",
       "      <th>min</th>\n",
       "      <td>0.000000</td>\n",
       "      <td>56.000000</td>\n",
       "      <td>24.000000</td>\n",
       "      <td>7.000000</td>\n",
       "      <td>14.000000</td>\n",
       "      <td>18.200000</td>\n",
       "      <td>0.085000</td>\n",
       "      <td>21.000000</td>\n",
       "      <td>0.000000</td>\n",
       "    </tr>\n",
       "    <tr>\n",
       "      <th>25%</th>\n",
       "      <td>1.000000</td>\n",
       "      <td>99.000000</td>\n",
       "      <td>62.000000</td>\n",
       "      <td>21.000000</td>\n",
       "      <td>76.750000</td>\n",
       "      <td>28.400000</td>\n",
       "      <td>0.269750</td>\n",
       "      <td>23.000000</td>\n",
       "      <td>0.000000</td>\n",
       "    </tr>\n",
       "    <tr>\n",
       "      <th>50%</th>\n",
       "      <td>2.000000</td>\n",
       "      <td>119.000000</td>\n",
       "      <td>70.000000</td>\n",
       "      <td>29.000000</td>\n",
       "      <td>125.500000</td>\n",
       "      <td>33.200000</td>\n",
       "      <td>0.449500</td>\n",
       "      <td>27.000000</td>\n",
       "      <td>0.000000</td>\n",
       "    </tr>\n",
       "    <tr>\n",
       "      <th>75%</th>\n",
       "      <td>5.000000</td>\n",
       "      <td>143.000000</td>\n",
       "      <td>78.000000</td>\n",
       "      <td>37.000000</td>\n",
       "      <td>190.000000</td>\n",
       "      <td>37.100000</td>\n",
       "      <td>0.687000</td>\n",
       "      <td>36.000000</td>\n",
       "      <td>1.000000</td>\n",
       "    </tr>\n",
       "    <tr>\n",
       "      <th>max</th>\n",
       "      <td>17.000000</td>\n",
       "      <td>198.000000</td>\n",
       "      <td>110.000000</td>\n",
       "      <td>63.000000</td>\n",
       "      <td>846.000000</td>\n",
       "      <td>67.100000</td>\n",
       "      <td>2.420000</td>\n",
       "      <td>81.000000</td>\n",
       "      <td>1.000000</td>\n",
       "    </tr>\n",
       "  </tbody>\n",
       "</table>\n",
       "</div>"
      ],
      "text/plain": [
       "         pregnant     glucose    pressure     triceps     insulin        mass  \\\n",
       "count  392.000000  392.000000  392.000000  392.000000  392.000000  392.000000   \n",
       "mean     3.301020  122.627551   70.663265   29.145408  156.056122   33.086224   \n",
       "std      3.211424   30.860781   12.496092   10.516424  118.841690    7.027659   \n",
       "min      0.000000   56.000000   24.000000    7.000000   14.000000   18.200000   \n",
       "25%      1.000000   99.000000   62.000000   21.000000   76.750000   28.400000   \n",
       "50%      2.000000  119.000000   70.000000   29.000000  125.500000   33.200000   \n",
       "75%      5.000000  143.000000   78.000000   37.000000  190.000000   37.100000   \n",
       "max     17.000000  198.000000  110.000000   63.000000  846.000000   67.100000   \n",
       "\n",
       "         pedigree         age    diabetes  \n",
       "count  392.000000  392.000000  392.000000  \n",
       "mean     0.523046   30.864796    0.331633  \n",
       "std      0.345488   10.200777    0.471401  \n",
       "min      0.085000   21.000000    0.000000  \n",
       "25%      0.269750   23.000000    0.000000  \n",
       "50%      0.449500   27.000000    0.000000  \n",
       "75%      0.687000   36.000000    1.000000  \n",
       "max      2.420000   81.000000    1.000000  "
      ]
     },
     "execution_count": 8,
     "metadata": {},
     "output_type": "execute_result"
    }
   ],
   "source": [
    "diabetes.describe()"
   ]
  },
  {
   "cell_type": "markdown",
   "metadata": {},
   "source": [
    "### Plotting"
   ]
  },
  {
   "cell_type": "code",
   "execution_count": 9,
   "metadata": {
    "ExecuteTime": {
     "end_time": "2020-02-28T15:13:33.840425Z",
     "start_time": "2020-02-28T15:13:33.661226Z"
    }
   },
   "outputs": [
    {
     "data": {
      "image/png": "[encoded data removed]",
      "text/plain": [
       "<Figure size 432x288 with 1 Axes>"
      ]
     },
     "metadata": {
      "needs_background": "light"
     },
     "output_type": "display_data"
    }
   ],
   "source": [
    "# Plot pedigree and diabetes and add the logistic fit\n",
    "sns.regplot(x = \"pedigree\", y = \"diabetes\", \n",
    "            y_jitter = 0.03,\n",
    "            data = diabetes, \n",
    "            logistic = True,\n",
    "            ci = None)\n",
    "\n",
    "# Display the plot\n",
    "plt.show()"
   ]
  },
  {
   "cell_type": "markdown",
   "metadata": {},
   "source": [
    "## Model fitting"
   ]
  },
  {
   "cell_type": "markdown",
   "metadata": {},
   "source": [
    "### Train, Test Split"
   ]
  },
  {
   "cell_type": "code",
   "execution_count": 10,
   "metadata": {
    "ExecuteTime": {
     "end_time": "2020-02-28T15:13:49.777149Z",
     "start_time": "2020-02-28T15:13:49.770167Z"
    }
   },
   "outputs": [],
   "source": [
    "from sklearn.model_selection import train_test_split\n",
    "\n",
    "train_data, test_data = train_test_split(diabetes,\n",
    "                                         test_size = 0.20,\n",
    "                                         random_state = 42)"
   ]
  },
  {
   "cell_type": "markdown",
   "metadata": {},
   "source": [
    "#### Fitting logistic regression"
   ]
  },
  {
   "cell_type": "code",
   "execution_count": 15,
   "metadata": {
    "ExecuteTime": {
     "end_time": "2020-02-28T15:13:59.910808Z",
     "start_time": "2020-02-28T15:13:59.874395Z"
    }
   },
   "outputs": [
    {
     "name": "stdout",
     "output_type": "stream",
     "text": [
      "Optimization terminated successfully.\n",
      "         Current function value: 0.426450\n",
      "         Iterations 7\n"
     ]
    }
   ],
   "source": [
    "import statsmodels.api as sm\n",
    "from statsmodels.formula.api import logit \n",
    "\n",
    "\n",
    "formula = ('diabetes ~ pregnant + glucose + pressure + triceps + insulin + mass + pedigree + age')\n",
    "\n",
    "model = logit(formula = formula, data = train_data).fit()"
   ]
  },
  {
   "cell_type": "markdown",
   "metadata": {},
   "source": [
    "#### Model summary table"
   ]
  },
  {
   "cell_type": "code",
   "execution_count": 16,
   "metadata": {
    "ExecuteTime": {
     "end_time": "2020-02-28T15:14:02.651539Z",
     "start_time": "2020-02-28T15:14:02.622947Z"
    }
   },
   "outputs": [
    {
     "data": {
      "text/html": [
       "<table class=\"simpletable\">\n",
       "<caption>Logit Regression Results</caption>\n",
       "<tr>\n",
       "  <th>Dep. Variable:</th>       <td>diabetes</td>     <th>  No. Observations:  </th>  <td>   313</td>  \n",
       "</tr>\n",
       "<tr>\n",
       "  <th>Model:</th>                 <td>Logit</td>      <th>  Df Residuals:      </th>  <td>   304</td>  \n",
       "</tr>\n",
       "<tr>\n",
       "  <th>Method:</th>                 <td>MLE</td>       <th>  Df Model:          </th>  <td>     8</td>  \n",
       "</tr>\n",
       "<tr>\n",
       "  <th>Date:</th>            <td>Sat, 07 Mar 2020</td> <th>  Pseudo R-squ.:     </th>  <td>0.3269</td>  \n",
       "</tr>\n",
       "<tr>\n",
       "  <th>Time:</th>                <td>00:29:21</td>     <th>  Log-Likelihood:    </th> <td> -133.48</td> \n",
       "</tr>\n",
       "<tr>\n",
       "  <th>converged:</th>             <td>True</td>       <th>  LL-Null:           </th> <td> -198.29</td> \n",
       "</tr>\n",
       "<tr>\n",
       "  <th>Covariance Type:</th>     <td>nonrobust</td>    <th>  LLR p-value:       </th> <td>3.382e-24</td>\n",
       "</tr>\n",
       "</table>\n",
       "<table class=\"simpletable\">\n",
       "<tr>\n",
       "      <td></td>         <th>coef</th>     <th>std err</th>      <th>z</th>      <th>P>|z|</th>  <th>[0.025</th>    <th>0.975]</th>  \n",
       "</tr>\n",
       "<tr>\n",
       "  <th>Intercept</th> <td>  -10.3495</td> <td>    1.390</td> <td>   -7.444</td> <td> 0.000</td> <td>  -13.075</td> <td>   -7.624</td>\n",
       "</tr>\n",
       "<tr>\n",
       "  <th>pregnant</th>  <td>    0.1181</td> <td>    0.063</td> <td>    1.888</td> <td> 0.059</td> <td>   -0.005</td> <td>    0.241</td>\n",
       "</tr>\n",
       "<tr>\n",
       "  <th>glucose</th>   <td>    0.0380</td> <td>    0.006</td> <td>    5.937</td> <td> 0.000</td> <td>    0.025</td> <td>    0.051</td>\n",
       "</tr>\n",
       "<tr>\n",
       "  <th>pressure</th>  <td>    0.0099</td> <td>    0.014</td> <td>    0.701</td> <td> 0.483</td> <td>   -0.018</td> <td>    0.037</td>\n",
       "</tr>\n",
       "<tr>\n",
       "  <th>triceps</th>   <td>    0.0211</td> <td>    0.019</td> <td>    1.100</td> <td> 0.271</td> <td>   -0.017</td> <td>    0.059</td>\n",
       "</tr>\n",
       "<tr>\n",
       "  <th>insulin</th>   <td>    0.0010</td> <td>    0.001</td> <td>    0.666</td> <td> 0.505</td> <td>   -0.002</td> <td>    0.004</td>\n",
       "</tr>\n",
       "<tr>\n",
       "  <th>mass</th>      <td>    0.0472</td> <td>    0.032</td> <td>    1.476</td> <td> 0.140</td> <td>   -0.015</td> <td>    0.110</td>\n",
       "</tr>\n",
       "<tr>\n",
       "  <th>pedigree</th>  <td>    1.2316</td> <td>    0.484</td> <td>    2.543</td> <td> 0.011</td> <td>    0.282</td> <td>    2.181</td>\n",
       "</tr>\n",
       "<tr>\n",
       "  <th>age</th>       <td>    0.0188</td> <td>    0.020</td> <td>    0.950</td> <td> 0.342</td> <td>   -0.020</td> <td>    0.058</td>\n",
       "</tr>\n",
       "</table>"
      ],
      "text/plain": [
       "<class 'statsmodels.iolib.summary.Summary'>\n",
       "\"\"\"\n",
       "                           Logit Regression Results                           \n",
       "==============================================================================\n",
       "Dep. Variable:               diabetes   No. Observations:                  313\n",
       "Model:                          Logit   Df Residuals:                      304\n",
       "Method:                           MLE   Df Model:                            8\n",
       "Date:                Sat, 07 Mar 2020   Pseudo R-squ.:                  0.3269\n",
       "Time:                        00:29:21   Log-Likelihood:                -133.48\n",
       "converged:                       True   LL-Null:                       -198.29\n",
       "Covariance Type:            nonrobust   LLR p-value:                 3.382e-24\n",
       "==============================================================================\n",
       "                 coef    std err          z      P>|z|      [0.025      0.975]\n",
       "------------------------------------------------------------------------------\n",
       "Intercept    -10.3495      1.390     -7.444      0.000     -13.075      -7.624\n",
       "pregnant       0.1181      0.063      1.888      0.059      -0.005       0.241\n",
       "glucose        0.0380      0.006      5.937      0.000       0.025       0.051\n",
       "pressure       0.0099      0.014      0.701      0.483      -0.018       0.037\n",
       "triceps        0.0211      0.019      1.100      0.271      -0.017       0.059\n",
       "insulin        0.0010      0.001      0.666      0.505      -0.002       0.004\n",
       "mass           0.0472      0.032      1.476      0.140      -0.015       0.110\n",
       "pedigree       1.2316      0.484      2.543      0.011       0.282       2.181\n",
       "age            0.0188      0.020      0.950      0.342      -0.020       0.058\n",
       "==============================================================================\n",
       "\"\"\""
      ]
     },
     "execution_count": 16,
     "metadata": {},
     "output_type": "execute_result"
    }
   ],
   "source": [
    "model.summary()"
   ]
  },
  {
   "cell_type": "markdown",
   "metadata": {},
   "source": [
    "#### ODDs Ratio"
   ]
  },
  {
   "cell_type": "code",
   "execution_count": 17,
   "metadata": {
    "ExecuteTime": {
     "end_time": "2020-02-28T15:14:07.561731Z",
     "start_time": "2020-02-28T15:14:07.556168Z"
    }
   },
   "outputs": [
    {
     "name": "stdout",
     "output_type": "stream",
     "text": [
      "Intercept    0.000032\n",
      "pregnant     1.125365\n",
      "glucose      1.038708\n",
      "pressure     1.009922\n",
      "triceps      1.021353\n",
      "insulin      1.000981\n",
      "mass         1.048328\n",
      "pedigree     3.426683\n",
      "age          1.019004\n",
      "dtype: float64\n"
     ]
    }
   ],
   "source": [
    "print(np.exp(model.params))"
   ]
  },
  {
   "cell_type": "markdown",
   "metadata": {},
   "source": [
    "### Average Merginal Effects"
   ]
  },
  {
   "cell_type": "markdown",
   "metadata": {},
   "source": [
    "\n",
    "\n",
    "* Options are:\n",
    "\n",
    "  *  ```‘overall’```, The average of the marginal effects at each observation.\n",
    "\n",
    "  * ```‘mean’```, The marginal effects at the mean of each regressor.\n",
    "\n",
    "  * ```‘median’```, The marginal effects at the median of each regressor.\n",
    "\n",
    "  * ```‘zero’```, The marginal effects at zero for each regressor.\n",
    "\n",
    "  * ```‘all’```, The marginal effects at each observation. If at is all only margeff will be available from the returned object.\n",
    "\n",
    "\n",
    "\n",
    "\n",
    "**method str, optional**\n",
    "\n",
    "* Options are:\n",
    "\n",
    "\n",
    " * ```‘dydx’``` - dy/dx - No transformation is made and marginal effects are returned. This is the default.\n",
    " \n",
    " \n",
    "\n",
    " * ```‘eyex’``` - estimate elasticities of variables in exog – $$\\frac {d(lny)}{d(lnx)}$$\n",
    "\n",
    "\n",
    " * ```‘dyex’``` - estimate semi-elasticity – $$\\frac {dy}{d(lnx)}$$\n",
    "\n",
    "\n",
    " * ```‘eydx’``` - estimate semi-elasticity – $$\\frac {d(lny)}{dx}$$\n"
   ]
  },
  {
   "cell_type": "code",
   "execution_count": 18,
   "metadata": {
    "ExecuteTime": {
     "end_time": "2020-02-28T15:15:18.237619Z",
     "start_time": "2020-02-28T15:15:18.226857Z"
    }
   },
   "outputs": [
    {
     "name": "stdout",
     "output_type": "stream",
     "text": [
      "        Logit Marginal Effects       \n",
      "=====================================\n",
      "Dep. Variable:               diabetes\n",
      "Method:                          dydx\n",
      "At:                           overall\n",
      "==============================================================================\n",
      "                dy/dx    std err          z      P>|z|      [0.025      0.975]\n",
      "------------------------------------------------------------------------------\n",
      "pregnant       0.0161      0.008      1.921      0.055      -0.000       0.032\n",
      "glucose        0.0052      0.001      7.577      0.000       0.004       0.007\n",
      "pressure       0.0013      0.002      0.703      0.482      -0.002       0.005\n",
      "triceps        0.0029      0.003      1.105      0.269      -0.002       0.008\n",
      "insulin        0.0001      0.000      0.668      0.504      -0.000       0.001\n",
      "mass           0.0064      0.004      1.494      0.135      -0.002       0.015\n",
      "pedigree       0.1677      0.064      2.626      0.009       0.043       0.293\n",
      "age            0.0026      0.003      0.956      0.339      -0.003       0.008\n",
      "==============================================================================\n"
     ]
    }
   ],
   "source": [
    "AME = model.get_margeff(at='overall', method='dydx')\n",
    "print(AME.summary())"
   ]
  },
  {
   "cell_type": "markdown",
   "metadata": {},
   "source": [
    "## Model evaluation on test data set"
   ]
  },
  {
   "cell_type": "code",
   "execution_count": 19,
   "metadata": {
    "ExecuteTime": {
     "end_time": "2020-02-28T15:15:44.792092Z",
     "start_time": "2020-02-28T15:15:44.724453Z"
    }
   },
   "outputs": [
    {
     "name": "stdout",
     "output_type": "stream",
     "text": [
      "Predicted   0   1  All\n",
      "Actual                \n",
      "0          44   8   52\n",
      "1          11  16   27\n",
      "All        55  24   79\n"
     ]
    }
   ],
   "source": [
    "import numpy as np\n",
    "from sklearn.metrics import classification_report, accuracy_score, roc_auc_score\n",
    "\n",
    "\n",
    "\n",
    "# Compute prediction\n",
    "prediction = model.predict(exog = test_data)\n",
    "\n",
    "\n",
    "\n",
    "# Define the cutoff\n",
    "cutoff = 0.5\n",
    "\n",
    "# Compute class predictions: y_prediction\n",
    "y_prediction = np.where(prediction > cutoff, 1, 0)\n",
    "\n",
    "# Assign actual class labels from the test sample to y_actual\n",
    "y_actual = test_data[\"diabetes\"]\n",
    "\n",
    "\n",
    "# Compute and print confusion matrix using crosstab function\n",
    "conf_matrix = pd.crosstab(y_actual, y_prediction,\n",
    "                       rownames = [\"Actual\"], \n",
    "                       colnames = [\"Predicted\"], \n",
    "                       margins = True)\n",
    "                      \n",
    "# Print the confusion matrix\n",
    "print(conf_matrix)"
   ]
  },
  {
   "cell_type": "markdown",
   "metadata": {},
   "source": [
    "### Classification accuracy"
   ]
  },
  {
   "cell_type": "code",
   "execution_count": 20,
   "metadata": {
    "ExecuteTime": {
     "end_time": "2020-02-28T15:18:53.258770Z",
     "start_time": "2020-02-28T15:18:53.253750Z"
    }
   },
   "outputs": [
    {
     "name": "stdout",
     "output_type": "stream",
     "text": [
      "Accuracy: 0.76%\n"
     ]
    }
   ],
   "source": [
    "accuracy = accuracy_score(y_actual, y_prediction)\n",
    "\n",
    "print('Accuracy: %.2f' % accuracy + \"%\")"
   ]
  },
  {
   "cell_type": "markdown",
   "metadata": {},
   "source": [
    "### Classification report"
   ]
  },
  {
   "cell_type": "code",
   "execution_count": 21,
   "metadata": {
    "ExecuteTime": {
     "end_time": "2020-02-28T15:16:16.093853Z",
     "start_time": "2020-02-28T15:16:16.083325Z"
    }
   },
   "outputs": [
    {
     "name": "stdout",
     "output_type": "stream",
     "text": [
      "              precision    recall  f1-score   support\n",
      "\n",
      "           0       0.80      0.85      0.82        52\n",
      "           1       0.67      0.59      0.63        27\n",
      "\n",
      "    accuracy                           0.76        79\n",
      "   macro avg       0.73      0.72      0.72        79\n",
      "weighted avg       0.75      0.76      0.76        79\n",
      "\n"
     ]
    }
   ],
   "source": [
    "print(classification_report(y_actual, y_prediction))"
   ]
  },
  {
   "cell_type": "markdown",
   "metadata": {},
   "source": [
    "### ROC_AUC estimation"
   ]
  },
  {
   "cell_type": "code",
   "execution_count": 31,
   "metadata": {
    "ExecuteTime": {
     "end_time": "2020-02-28T15:19:28.750033Z",
     "start_time": "2020-02-28T15:19:28.744049Z"
    }
   },
   "outputs": [
    {
     "name": "stdout",
     "output_type": "stream",
     "text": [
      "AUC: 0.72%\n"
     ]
    }
   ],
   "source": [
    "roc_auc = roc_auc_score(y_actual, y_prediction)\n",
    "print('AUC: %.2f' % roc_auc + \"%\")"
   ]
  },
  {
   "cell_type": "markdown",
   "metadata": {},
   "source": [
    "### Reciever Operating Curve"
   ]
  },
  {
   "cell_type": "code",
   "execution_count": 22,
   "metadata": {
    "ExecuteTime": {
     "end_time": "2020-02-28T15:16:31.726594Z",
     "start_time": "2020-02-28T15:16:31.428796Z"
    }
   },
   "outputs": [
    {
     "data": {
      "image/png": "[encoded data removed]",
      "text/plain": [
       "<Figure size 360x360 with 1 Axes>"
      ]
     },
     "metadata": {},
     "output_type": "display_data"
    }
   ],
   "source": [
    "from plot_metric.functions import BinaryClassification\n",
    "\n",
    "# Visualisation with plot_metric\n",
    "bc = BinaryClassification(y_actual,\n",
    "                          y_prediction,\n",
    "                          labels = [\"Class 1\", \"Class 2\"])\n",
    "\n",
    "# Figures\n",
    "plt.figure(figsize = (5,5))\n",
    "bc.plot_roc_curve()\n",
    "plt.show()"
   ]
  }
 ],
 "metadata": {
  "hide_input": false,
  "kernelspec": {
   "display_name": "Python3_ML",
   "language": "python",
   "name": "python3_ml"
  },
  "language_info": {
   "codemirror_mode": {
    "name": "ipython",
    "version": 3
   },
   "file_extension": ".py",
   "mimetype": "text/x-python",
   "name": "python",
   "nbconvert_exporter": "python",
   "pygments_lexer": "ipython3",
   "version": "3.7.6"
  },
  "toc": {
   "base_numbering": 1,
   "nav_menu": {},
   "number_sections": true,
   "sideBar": true,
   "skip_h1_title": false,
   "title_cell": "Table of Contents",
   "title_sidebar": "Contents",
   "toc_cell": false,
   "toc_position": {},
   "toc_section_display": true,
   "toc_window_display": false
  },
  "varInspector": {
   "cols": {
    "lenName": 16,
    "lenType": 16,
    "lenVar": 40
   },
   "kernels_config": {
    "python": {
     "delete_cmd_postfix": "",
     "delete_cmd_prefix": "del ",
     "library": "var_list.py",
     "varRefreshCmd": "print(var_dic_list())"
    },
    "r": {
     "delete_cmd_postfix": ") ",
     "delete_cmd_prefix": "rm(",
     "library": "var_list.r",
     "varRefreshCmd": "cat(var_dic_list()) "
    }
   },
   "types_to_exclude": [
    "module",
    "function",
    "builtin_function_or_method",
    "instance",
    "_Feature"
   ],
   "window_display": false
  }
 },
 "nbformat": 4,
 "nbformat_minor": 2
}
